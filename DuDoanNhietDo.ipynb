{
 "cells": [
  {
   "cell_type": "code",
   "execution_count": 1,
   "id": "be5a82bf",
   "metadata": {},
   "outputs": [],
   "source": [
    "import numpy as np\n",
    "import matplotlib.pyplot as plt\n",
    "import pandas as pd"
   ]
  },
  {
   "cell_type": "code",
   "execution_count": 6,
   "id": "70fceb51",
   "metadata": {},
   "outputs": [
    {
     "data": {
      "text/plain": [
       "array([[ 9.47222222],\n",
       "       [ 9.35555556],\n",
       "       [ 9.37777778],\n",
       "       ...,\n",
       "       [ 1.16111111],\n",
       "       [-0.11111111],\n",
       "       [-0.94444444]])"
      ]
     },
     "execution_count": 6,
     "metadata": {},
     "output_type": "execute_result"
    }
   ],
   "source": [
    "data = pd.read_csv('./data/weatherHistory.csv')\n",
    "data_end = int(np.floor(0.8*(data.shape[0])))\n",
    "dataset = data.iloc[:, 3:4].values\n",
    "dataset_train = dataset[:data_end]\n",
    "dataset_test = dataset[data_end:]\n",
    "dataset_train"
   ]
  },
  {
   "cell_type": "code",
   "execution_count": 7,
   "metadata": {},
   "outputs": [
    {
     "data": {
      "text/plain": [
       "array([[0.50697507],\n",
       "       [0.50508505],\n",
       "       [0.50544505],\n",
       "       ...,\n",
       "       [0.37233372],\n",
       "       [0.35172352],\n",
       "       [0.33822338]])"
      ]
     },
     "execution_count": 7,
     "metadata": {},
     "output_type": "execute_result"
    }
   ],
   "source": [
    "from sklearn.preprocessing import MinMaxScaler\n",
    "sc = MinMaxScaler(feature_range = (0, 1))\n",
    "training_set_scaled = sc.fit_transform(dataset_train)\n",
    "training_set_scaled"
   ]
  },
  {
   "cell_type": "code",
   "execution_count": 9,
   "id": "98a6de2a",
   "metadata": {},
   "outputs": [
    {
     "data": {
      "text/plain": [
       "array([[[0.50697507],\n",
       "        [0.50508505],\n",
       "        [0.50544505],\n",
       "        ...,\n",
       "        [0.53469535],\n",
       "        [0.51741517],\n",
       "        [0.51876519]],\n",
       "\n",
       "       [[0.50508505],\n",
       "        [0.50544505],\n",
       "        [0.48780488],\n",
       "        ...,\n",
       "        [0.51741517],\n",
       "        [0.51876519],\n",
       "        [0.52236522]],\n",
       "\n",
       "       [[0.50544505],\n",
       "        [0.48780488],\n",
       "        [0.49536495],\n",
       "        ...,\n",
       "        [0.51876519],\n",
       "        [0.52236522],\n",
       "        [0.51408514]],\n",
       "\n",
       "       ...,\n",
       "\n",
       "       [[0.38205382],\n",
       "        [0.38151382],\n",
       "        [0.3902439 ],\n",
       "        ...,\n",
       "        [0.37188372],\n",
       "        [0.38169382],\n",
       "        [0.3798038 ]],\n",
       "\n",
       "       [[0.38151382],\n",
       "        [0.3902439 ],\n",
       "        [0.3898839 ],\n",
       "        ...,\n",
       "        [0.38169382],\n",
       "        [0.3798038 ],\n",
       "        [0.37233372]],\n",
       "\n",
       "       [[0.3902439 ],\n",
       "        [0.3898839 ],\n",
       "        [0.3904239 ],\n",
       "        ...,\n",
       "        [0.3798038 ],\n",
       "        [0.37233372],\n",
       "        [0.35172352]]])"
      ]
     },
     "execution_count": 9,
     "metadata": {},
     "output_type": "execute_result"
    }
   ],
   "source": [
    "X_train = []\n",
    "y_train = []\n",
    "for i in range(24, dataset_train.shape[0]):\n",
    "    X_train.append(training_set_scaled[i-24:i, 0])\n",
    "    y_train.append(training_set_scaled[i, 0])\n",
    "X_train, y_train = np.array(X_train), np.array(y_train)\n",
    "\n",
    "X_train = np.reshape(X_train, (X_train.shape[0], X_train.shape[1], 1))\n",
    "X_train"
   ]
  },
  {
   "cell_type": "code",
   "execution_count": 11,
   "id": "42be674a",
   "metadata": {},
   "outputs": [],
   "source": [
    "# Part 2 - Building the RNN\n",
    "\n",
    "# Importing the Keras libraries and packages\n",
    "from keras.models import Sequential\n",
    "from keras.layers import Dense\n",
    "from keras.layers import LSTM\n",
    "from keras.layers import Dropout"
   ]
  },
  {
   "cell_type": "code",
   "execution_count": 12,
   "id": "ba2505c3",
   "metadata": {},
   "outputs": [],
   "source": [
    "# Initialising the RNN\n",
    "regressor = Sequential() # lưu trữ các danh sách \n",
    "\n",
    "# Adding the first LSTM layer and some Dropout regularisation\n",
    "#Dropout bỏ qua 20% unit bất kì\n",
    "regressor.add(LSTM(units = 50, return_sequences = True, input_shape = (X_train.shape[1], 1)))\n",
    "regressor.add(Dropout(0.2))"
   ]
  },
  {
   "cell_type": "code",
   "execution_count": 13,
   "id": "601b408b",
   "metadata": {},
   "outputs": [],
   "source": [
    "# Adding a second LSTM layer and some Dropout regularisation\n",
    "regressor.add(LSTM(units = 50, return_sequences = True))\n",
    "regressor.add(Dropout(0.2))"
   ]
  },
  {
   "cell_type": "code",
   "execution_count": 14,
   "id": "9c14f83b",
   "metadata": {},
   "outputs": [],
   "source": [
    "# Adding a third LSTM layer and some Dropout regularisation\n",
    "regressor.add(LSTM(units = 50, return_sequences = True))\n",
    "regressor.add(Dropout(0.2))\n",
    "\n",
    "# Adding a third LSTM layer and some Dropout regularisation\n",
    "regressor.add(LSTM(units = 50, return_sequences = True))\n",
    "regressor.add(Dropout(0.2))\n",
    "\n",
    "# Adding a third LSTM layer and some Dropout regularisation\n",
    "regressor.add(LSTM(units = 50, return_sequences = True))\n",
    "regressor.add(Dropout(0.2))\n",
    "\n",
    "# Adding a third LSTM layer and some Dropout regularisation\n",
    "regressor.add(LSTM(units = 50, return_sequences = True))\n",
    "regressor.add(Dropout(0.2))\n",
    "# Adding a third LSTM layer and some Dropout regularisation\n",
    "regressor.add(LSTM(units = 50, return_sequences = True))\n",
    "regressor.add(Dropout(0.2))\n",
    "# Adding a third LSTM layer and some Dropout regularisation\n",
    "regressor.add(LSTM(units = 50, return_sequences = True))\n",
    "regressor.add(Dropout(0.2))\n",
    "# Adding a third LSTM layer and some Dropout regularisation\n",
    "regressor.add(LSTM(units = 50, return_sequences = True))\n",
    "regressor.add(Dropout(0.2))\n",
    "# Adding a third LSTM layer and some Dropout regularisation\n",
    "regressor.add(LSTM(units = 50, return_sequences = True))\n",
    "regressor.add(Dropout(0.2))"
   ]
  },
  {
   "cell_type": "code",
   "execution_count": 15,
   "id": "da837dca",
   "metadata": {},
   "outputs": [],
   "source": [
    "# Adding the output layer\n",
    "regressor.add(Dense(units = 1))\n",
    "\n",
    "# Compiling the RNN\n",
    "regressor.compile(optimizer = 'adam', loss = 'mean_squared_error')\n",
    "#thuật toán tối ưu là thuật toán để cải thiện weight và bias theo từng bước\n",
    "#adam thuật toán tối ưu tìm cực tiểu toàn cục"
   ]
  },
  {
   "cell_type": "code",
   "execution_count": 16,
   "id": "391617cb",
   "metadata": {},
   "outputs": [
    {
     "name": "stdout",
     "output_type": "stream",
     "text": [
      "Epoch 1/100\n",
      "2411/2411 [==============================] - 240s 90ms/step - loss: 0.0280\n",
      "Epoch 2/100\n",
      "2411/2411 [==============================] - 252s 104ms/step - loss: 0.0251\n",
      "Epoch 3/100\n",
      "2411/2411 [==============================] - 261s 108ms/step - loss: 0.0249\n",
      "Epoch 4/100\n",
      "1936/2411 [=======================>......] - ETA: 54s - loss: 0.0248"
     ]
    }
   ],
   "source": [
    "# Fitting the RNN to the Training set\n",
    "regressor.fit(X_train, y_train, epochs = 100, batch_size = 32)\n",
    "#Epochs: Một Epoch được tính là khi chúng ta đưa tất cả dữ liệu trong tập train vào mạng neural network 1 lần\n",
    "#Batch size là số lượng mẫu dữ liệu trong một lần huấn luyện."
   ]
  }
 ],
 "metadata": {
  "kernelspec": {
   "display_name": "Python 3",
   "language": "python",
   "name": "python3"
  },
  "language_info": {
   "codemirror_mode": {
    "name": "ipython",
    "version": 3
   },
   "file_extension": ".py",
   "mimetype": "text/x-python",
   "name": "python",
   "nbconvert_exporter": "python",
   "pygments_lexer": "ipython3",
   "version": "3.9.6"
  },
  "vscode": {
   "interpreter": {
    "hash": "956f6a60d6b60867c75c9e4344741968eaa9f1e0cb64600a714d5b3b57e6771b"
   }
  }
 },
 "nbformat": 4,
 "nbformat_minor": 5
}
