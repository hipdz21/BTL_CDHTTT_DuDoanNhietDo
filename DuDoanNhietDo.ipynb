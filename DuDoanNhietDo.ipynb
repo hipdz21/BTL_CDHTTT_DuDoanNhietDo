{
  "cells": [
    {
      "cell_type": "code",
      "source": [
        "import numpy as np\n",
        "import matplotlib.pyplot as plt\n",
        "import pandas as pd\n",
        "import os.path\n",
        "from os import path\n",
        "from keras.models import Sequential\n",
        "from keras.layers import Dense\n",
        "from keras.layers import LSTM\n",
        "from keras.layers import Dropout"
      ],
      "metadata": {
        "id": "qIoDk_419yOB"
      },
      "id": "qIoDk_419yOB",
      "execution_count": null,
      "outputs": []
    },
    {
      "cell_type": "code",
      "source": [
        "# Doc du lieu\n",
        "data = pd.read_csv('https://raw.githubusercontent.com/hipdz21/BTL_CDHTTT_DuDoanNhietDo/main/data/weatherHistory.csv')\n",
        "data_end = int(np.floor(0.8*(data.shape[0])))\n",
        "dataset = data.iloc[:, 3:4].values\n",
        "training_set = dataset[:data_end]\n",
        "testing_set = dataset[data_end:]"
      ],
      "metadata": {
        "id": "rLp1WN7GBNNJ"
      },
      "id": "rLp1WN7GBNNJ",
      "execution_count": null,
      "outputs": []
    },
    {
      "cell_type": "code",
      "source": [
        "# Thuc hien scale du lieu gia ve khoang 0,1\n",
        "from sklearn.preprocessing import MinMaxScaler\n",
        "sc = MinMaxScaler(feature_range = (0, 1))\n",
        "training_set_scaled = sc.fit_transform(training_set)"
      ],
      "metadata": {
        "id": "-biSd1gyBSo6"
      },
      "id": "-biSd1gyBSo6",
      "execution_count": null,
      "outputs": []
    },
    {
      "cell_type": "code",
      "source": [
        "# Tao du lieu train, X = 24 time steps, Y =  1 time step\n",
        "X_train = []\n",
        "y_train = []\n",
        "no_of_sample = len(training_set)\n",
        "\n",
        "for i in range(24, no_of_sample):\n",
        "    X_train.append(training_set_scaled[i-24:i, 0])\n",
        "    y_train.append(training_set_scaled[i, 0])\n",
        "\n",
        "X_train, y_train = np.array(X_train), np.array(y_train)\n",
        "\n",
        "X_train = np.reshape(X_train, (X_train.shape[0], X_train.shape[1], 1))\n"
      ],
      "metadata": {
        "id": "ijcGcodiBUpB"
      },
      "id": "ijcGcodiBUpB",
      "execution_count": null,
      "outputs": []
    },
    {
      "cell_type": "code",
      "source": [
        "# Xay dung model LSTM\n",
        "regressor = Sequential()\n",
        "regressor.add(LSTM(units = 50, return_sequences = True, input_shape = (X_train.shape[1], 1)))\n",
        "regressor.add(Dropout(0.2))\n",
        "regressor.add(LSTM(units = 50, return_sequences = True))\n",
        "regressor.add(Dropout(0.2))\n",
        "regressor.add(LSTM(units = 50, return_sequences = True))\n",
        "regressor.add(Dropout(0.2))\n",
        "regressor.add(LSTM(units = 50))\n",
        "regressor.add(Dropout(0.2))\n",
        "regressor.add(Dense(units = 1))\n",
        "regressor.compile(optimizer = 'adam', loss = 'mean_squared_error')\n",
        "\n"
      ],
      "metadata": {
        "id": "h2mr59FGBXSV"
      },
      "id": "h2mr59FGBXSV",
      "execution_count": null,
      "outputs": []
    },
    {
      "cell_type": "code",
      "source": [
        "# training\n",
        "regressor.fit(X_train, y_train, epochs = 10, batch_size = 32)\n",
        "# regressor.save(\"mymodel.h5\")\n",
        "\n"
      ],
      "metadata": {
        "colab": {
          "base_uri": "https://localhost:8080/"
        },
        "id": "s9WRc4xYBYty",
        "outputId": "9c09dda6-8057-4550-ac3d-7f476284b00d"
      },
      "id": "s9WRc4xYBYty",
      "execution_count": null,
      "outputs": [
        {
          "output_type": "stream",
          "name": "stdout",
          "text": [
            "Epoch 1/10\n",
            "2411/2411 [==============================] - 38s 12ms/step - loss: 0.0054\n",
            "Epoch 2/10\n",
            "2411/2411 [==============================] - 31s 13ms/step - loss: 0.0014\n",
            "Epoch 3/10\n",
            "2411/2411 [==============================] - 30s 12ms/step - loss: 9.6686e-04\n",
            "Epoch 4/10\n",
            "2411/2411 [==============================] - 29s 12ms/step - loss: 8.8200e-04\n",
            "Epoch 5/10\n",
            "2411/2411 [==============================] - 30s 12ms/step - loss: 8.4213e-04\n",
            "Epoch 6/10\n",
            "2411/2411 [==============================] - 28s 12ms/step - loss: 8.1848e-04\n",
            "Epoch 7/10\n",
            "2411/2411 [==============================] - 28s 12ms/step - loss: 7.9926e-04\n",
            "Epoch 8/10\n",
            "2411/2411 [==============================] - 29s 12ms/step - loss: 7.7755e-04\n",
            "Epoch 9/10\n",
            "2411/2411 [==============================] - 29s 12ms/step - loss: 7.5884e-04\n",
            "Epoch 10/10\n",
            "2411/2411 [==============================] - 28s 12ms/step - loss: 7.4468e-04\n"
          ]
        }
      ]
    },
    {
      "cell_type": "markdown",
      "source": [
        "# New Section"
      ],
      "metadata": {
        "id": "ShyZW-UmiTjj"
      },
      "id": "ShyZW-UmiTjj"
    },
    {
      "cell_type": "code",
      "source": [
        "# Tien hanh du doan\n",
        "inputs = dataset[len(dataset) - len(testing_set) - 24:]\n",
        "inputs = inputs.reshape(-1,1)\n",
        "inputs = sc.transform(inputs)\n",
        "\n",
        "X_test = []\n",
        "no_of_sample = len(inputs)\n",
        "\n",
        "for i in range(24, no_of_sample):\n",
        "    X_test.append(inputs[i-24:i, 0])\n",
        "\n",
        "X_test = np.array(X_test)\n",
        "X_test = np.reshape(X_test, (X_test.shape[0], X_test.shape[1], 1))\n",
        "predicted = regressor.predict(X_test)\n",
        "predicted = sc.inverse_transform(predicted)"
      ],
      "metadata": {
        "colab": {
          "base_uri": "https://localhost:8080/"
        },
        "id": "SZvxGcNIBcJi",
        "outputId": "18979dd1-99ad-4c89-8f69-07eb4270dc66"
      },
      "id": "SZvxGcNIBcJi",
      "execution_count": null,
      "outputs": [
        {
          "output_type": "stream",
          "name": "stdout",
          "text": [
            "603/603 [==============================] - 5s 5ms/step\n"
          ]
        }
      ]
    },
    {
      "cell_type": "code",
      "source": [
        "# Ve bieu do gia that va gia du doan (1 tuan)\n",
        "plt.plot(testing_set[:168], color = 'red', label = 'Real')\n",
        "plt.plot(predicted[:168], color = 'green', label = 'Predicted')\n",
        "plt.title('Temperature Prediction')\n",
        "plt.xlabel('Time')\n",
        "plt.ylabel('Temperature')\n",
        "plt.legend()\n",
        "plt.show()"
      ],
      "metadata": {
        "colab": {
          "base_uri": "https://localhost:8080/",
          "height": 295
        },
        "id": "Z21l2YFEAqAi",
        "outputId": "ad46bebc-89ab-48b5-aa1f-8626994e5ea8"
      },
      "id": "Z21l2YFEAqAi",
      "execution_count": null,
      "outputs": [
        {
          "output_type": "display_data",
          "data": {
            "text/plain": [
              "<Figure size 432x288 with 1 Axes>"
            ],
            "image/png": "[encoded data removed]"
          },
          "metadata": {
            "needs_background": "light"
          }
        }
      ]
    }
  ],
  "metadata": {
    "kernelspec": {
      "display_name": "Python 3",
      "language": "python",
      "name": "python3"
    },
    "language_info": {
      "codemirror_mode": {
        "name": "ipython",
        "version": 3
      },
      "file_extension": ".py",
      "mimetype": "text/x-python",
      "name": "python",
      "nbconvert_exporter": "python",
      "pygments_lexer": "ipython3",
      "version": "3.9.6"
    },
    "vscode": {
      "interpreter": {
        "hash": "956f6a60d6b60867c75c9e4344741968eaa9f1e0cb64600a714d5b3b57e6771b"
      }
    },
    "colab": {
      "provenance": []
    },
    "accelerator": "GPU",
    "gpuClass": "standard"
  },
  "nbformat": 4,
  "nbformat_minor": 5
}